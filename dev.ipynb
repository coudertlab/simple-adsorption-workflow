{
 "cells": [
  {
   "cell_type": "code",
   "execution_count": 6,
   "id": "5879f073",
   "metadata": {},
   "outputs": [
    {
     "name": "stdout",
     "output_type": "stream",
     "text": [
      "{'structure': 'KAXQIL', 'gas': 'N2', 'pressure': 10, 'npoints': 5, 'temperature': 298.15, 'unit_cells': [1, 1, 1], 'FF': 'GenericMOFs'}\n",
      "{'structure': 'KAXQIL', 'gas': 'N2', 'pressure': 10000000.0, 'npoints': 5, 'temperature': 298.15, 'unit_cells': [1, 1, 1], 'FF': 'GenericMOFs'}\n",
      "{'structure': 'KAXQIL', 'gas': 'methane', 'pressure': 10, 'npoints': 5, 'temperature': 298.15, 'unit_cells': [1, 1, 1], 'FF': 'GenericMOFs'}\n",
      "{'structure': 'KAXQIL', 'gas': 'methane', 'pressure': 10000000.0, 'npoints': 5, 'temperature': 298.15, 'unit_cells': [1, 1, 1], 'FF': 'GenericMOFs'}\n",
      "{'structure': 'SABWAU', 'gas': 'N2', 'pressure': 10, 'npoints': 5, 'temperature': 298.15, 'unit_cells': [1, 1, 1], 'FF': 'GenericMOFs'}\n",
      "{'structure': 'SABWAU', 'gas': 'N2', 'pressure': 10000000.0, 'npoints': 5, 'temperature': 298.15, 'unit_cells': [1, 1, 1], 'FF': 'GenericMOFs'}\n",
      "{'structure': 'SABWAU', 'gas': 'methane', 'pressure': 10, 'npoints': 5, 'temperature': 298.15, 'unit_cells': [1, 1, 1], 'FF': 'GenericMOFs'}\n",
      "{'structure': 'SABWAU', 'gas': 'methane', 'pressure': 10000000.0, 'npoints': 5, 'temperature': 298.15, 'unit_cells': [1, 1, 1], 'FF': 'GenericMOFs'}\n"
     ]
    }
   ],
   "source": [
    "import json\n",
    "from itertools import product\n",
    "\n",
    "with open('input.json','r') as f:\n",
    "    data = json.load(f)\n",
    "    \n",
    "# Extract parameter values\n",
    "parameters = data['parameters']\n",
    "\n",
    "# Generate combinations\n",
    "combinations = list(product(*(value if isinstance(value, list) else [value] for value in parameters.values())))\n",
    "\n",
    "# Create dictionaries for each combination\n",
    "result = []\n",
    "for combo in combinations:\n",
    "    dictionary = {key: value for key, value in zip(parameters.keys(), combo)}\n",
    "    dictionary.update(data['default'])\n",
    "    result.append(dictionary)\n",
    "\n",
    "# Print the generated dictionaries\n",
    "for dictionary in result:\n",
    "    print(dictionary)"
   ]
  },
  {
   "cell_type": "code",
   "execution_count": 7,
   "id": "f5dd6b54",
   "metadata": {},
   "outputs": [
    {
     "data": {
      "text/plain": [
       "{'parameters': {'structure': ['KAXQIL', 'SABWAU'],\n",
       "  'gas': ['N2', 'methane'],\n",
       "  'pressure': [10, 10000000.0],\n",
       "  'npoints': 5,\n",
       "  'temperature': [298.15]},\n",
       " 'default': {'unit_cells': [1, 1, 1], 'FF': 'GenericMOFs'}}"
      ]
     },
     "execution_count": 7,
     "metadata": {},
     "output_type": "execute_result"
    }
   ],
   "source": [
    "data"
   ]
  },
  {
   "cell_type": "code",
   "execution_count": null,
   "id": "0c769457",
   "metadata": {},
   "outputs": [],
   "source": []
  }
 ],
 "metadata": {
  "kernelspec": {
   "display_name": "Python 3 (ipykernel)",
   "language": "python",
   "name": "python3"
  },
  "language_info": {
   "codemirror_mode": {
    "name": "ipython",
    "version": 3
   },
   "file_extension": ".py",
   "mimetype": "text/x-python",
   "name": "python",
   "nbconvert_exporter": "python",
   "pygments_lexer": "ipython3",
   "version": "3.9.16"
  },
  "varInspector": {
   "cols": {
    "lenName": 16,
    "lenType": 16,
    "lenVar": 40
   },
   "kernels_config": {
    "python": {
     "delete_cmd_postfix": "",
     "delete_cmd_prefix": "del ",
     "library": "var_list.py",
     "varRefreshCmd": "print(var_dic_list())"
    },
    "r": {
     "delete_cmd_postfix": ") ",
     "delete_cmd_prefix": "rm(",
     "library": "var_list.r",
     "varRefreshCmd": "cat(var_dic_list()) "
    }
   },
   "types_to_exclude": [
    "module",
    "function",
    "builtin_function_or_method",
    "instance",
    "_Feature"
   ],
   "window_display": false
  }
 },
 "nbformat": 4,
 "nbformat_minor": 5
}
