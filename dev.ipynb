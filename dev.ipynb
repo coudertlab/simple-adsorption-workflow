{
 "cells": [
  {
   "cell_type": "code",
   "execution_count": 4,
   "id": "9efac27b",
   "metadata": {},
   "outputs": [
    {
     "name": "stdout",
     "output_type": "stream",
     "text": [
      "{'structure': 'KAXQIL', 'molecule_name': 'N2', 'pressure': 10, 'npoints': 5, 'temperature': 298.15, 'unit_cells': [1, 1, 1], 'FF': 'GenericMOFs'}\n",
      "{'structure': 'KAXQIL', 'molecule_name': 'N2', 'pressure': 1000000.0, 'npoints': 5, 'temperature': 298.15, 'unit_cells': [1, 1, 1], 'FF': 'GenericMOFs'}\n",
      "{'structure': 'KAXQIL', 'molecule_name': 'methane', 'pressure': 10, 'npoints': 5, 'temperature': 298.15, 'unit_cells': [1, 1, 1], 'FF': 'GenericMOFs'}\n",
      "{'structure': 'KAXQIL', 'molecule_name': 'methane', 'pressure': 1000000.0, 'npoints': 5, 'temperature': 298.15, 'unit_cells': [1, 1, 1], 'FF': 'GenericMOFs'}\n"
     ]
    }
   ],
   "source": [
    "import json\n",
    "from itertools import product\n",
    "\n",
    "with open('input.json','r') as f:\n",
    "    data = json.load(f)\n",
    "    \n",
    "# Extract parameter values\n",
    "parameters = data['parameters']\n",
    "\n",
    "# Generate combinations\n",
    "combinations = list(product(*(value if isinstance(value, list) else [value] for value in parameters.values())))\n",
    "\n",
    "# Create dictionaries for each combination\n",
    "result = []\n",
    "for combo in combinations:\n",
    "    dictionary = {key: value for key, value in zip(parameters.keys(), combo)}\n",
    "    dictionary.update(data['defaults'])\n",
    "    result.append(dictionary)\n",
    "\n",
    "# Print the generated dictionaries\n",
    "for dictionary in result:\n",
    "    print(dictionary)"
   ]
  },
  {
   "cell_type": "code",
   "execution_count": 5,
   "id": "1b5e8243",
   "metadata": {},
   "outputs": [],
   "source": [
    "from src.wraspa2 import *\n",
    "from input_parser import *"
   ]
  },
  {
   "cell_type": "code",
   "execution_count": 6,
   "id": "cf3d2cf0",
   "metadata": {},
   "outputs": [],
   "source": [
    "from ccdc.search import Search\n",
    "from ccdc.search import TextNumericSearch\n",
    "from ccdc import io"
   ]
  },
  {
   "cell_type": "markdown",
   "id": "a8673cd7",
   "metadata": {},
   "source": [
    "### Search all CSD entries given the partial name of the compound"
   ]
  },
  {
   "cell_type": "code",
   "execution_count": 7,
   "id": "9088a692",
   "metadata": {},
   "outputs": [],
   "source": [
    "csd = io.EntryReader('CSD')"
   ]
  },
  {
   "cell_type": "code",
   "execution_count": 113,
   "id": "22d7ff6a",
   "metadata": {},
   "outputs": [
    {
     "ename": "TypeError",
     "evalue": "search() got an unexpected keyword argument 'kind'",
     "output_type": "error",
     "traceback": [
      "\u001b[0;31m---------------------------------------------------------------------------\u001b[0m",
      "\u001b[0;31mTypeError\u001b[0m                                 Traceback (most recent call last)",
      "File \u001b[0;32m<timed exec>:3\u001b[0m\n",
      "\u001b[0;31mTypeError\u001b[0m: search() got an unexpected keyword argument 'kind'"
     ]
    }
   ],
   "source": [
    "%%time\n",
    "search = TextNumericSearch()\n",
    "search.add_compound_name(\"HKUST\")\n",
    "result = search.search()"
   ]
  },
  {
   "cell_type": "code",
   "execution_count": 46,
   "id": "0b24ea16",
   "metadata": {},
   "outputs": [
    {
     "data": {
      "text/plain": [
       "30"
      ]
     },
     "execution_count": 46,
     "metadata": {},
     "output_type": "execute_result"
    }
   ],
   "source": [
    "len(result)"
   ]
  },
  {
   "cell_type": "markdown",
   "id": "4b9984ea",
   "metadata": {},
   "source": [
    "### Search all CSD entries given the partial name of the CSD identifier"
   ]
  },
  {
   "cell_type": "code",
   "execution_count": 48,
   "id": "2ad18353",
   "metadata": {},
   "outputs": [
    {
     "name": "stdout",
     "output_type": "stream",
     "text": [
      "CPU times: user 699 ms, sys: 32.4 ms, total: 732 ms\n",
      "Wall time: 728 ms\n"
     ]
    }
   ],
   "source": [
    "%%time\n",
    "search = TextNumericSearch()\n",
    "search.add_identifier(\"SABWAU\")\n",
    "results = search.search()"
   ]
  },
  {
   "cell_type": "code",
   "execution_count": 49,
   "id": "be9e684b",
   "metadata": {},
   "outputs": [
    {
     "name": "stdout",
     "output_type": "stream",
     "text": [
      "SABWAU\n",
      "SABWAU01\n"
     ]
    }
   ],
   "source": [
    "for result in results :\n",
    "    print(result.identifier)"
   ]
  },
  {
   "cell_type": "code",
   "execution_count": 53,
   "id": "ca9cb45b",
   "metadata": {},
   "outputs": [
    {
     "data": {
      "text/plain": [
       "\"\\n#######################################################################\\n#\\n#                 Cambridge Crystallographic Data Centre\\n#                                CCDC \\n#\\n#######################################################################\\n#\\n# If this CIF has been generated from an entry in the Cambridge \\n# Structural Database, then it will include bibliographic, chemical, \\n# crystal, experimental, refinement or atomic coordinate data resulting \\n# from the CCDC's data processing and validation procedures.\\n#\\n#######################################################################\\n\\ndata_SABWAU01\\n_symmetry_cell_setting           monoclinic\\n_symmetry_space_group_name_H-M   'P 21/c'\\n_symmetry_Int_Tables_number      14\\n_space_group_name_Hall           '-P 2ybc'\\nloop_\\n_symmetry_equiv_pos_site_id\\n_symmetry_equiv_pos_as_xyz\\n1 x,y,z\\n2 -x,1/2+y,1/2-z\\n3 -x,-y,-z\\n4 x,1/2-y,1/2+z\\n_cell_length_a                   19.50417(25)\\n_cell_length_b                   15.20143(13)\\n_cell_length_c                   6.56931(9)\\n_cell_angle_alpha                90\\n_cell_angle_beta                 104.1797(13)\\n_cell_angle_gamma                90\\n_cell_volume                     1888.4\\nloop_\\n_atom_site_label\\n_atom_site_type_symbol\\n_atom_site_fract_x\\n_atom_site_fract_y\\n_atom_site_fract_z\\n_atom_site_U_iso_or_equiv\\n_atom_site_thermal_displace_type\\nAl1 Al 0.5003(5) 0.2437(7) 0.5108(15) 0.0238 Uiso\\nAl2 Al 0.0000 0.50000 0.0000 0.0238 Uiso\\nAl3 Al 0.0000 0.50000 0.5000 0.0238 Uiso\\nO1 O 0.4999(10) 0.3025(12) 0.2651(26) 0.0139 Uiso\\nO2 O -0.0044(10) 0.5521(12) 0.2384(20) 0.0139 Uiso\\nO3 O 0.9159(7) 0.0696(5) 0.8722(21) 0.0323 Uiso\\nO4 O 0.9355(7) 0.0890(5) 0.5493(21) 0.0323 Uiso\\nO5 O 0.5573(7) 0.1589(5) 0.4451(21) 0.0323 Uiso\\nO6 O 0.5825(8) 0.1848(5) 0.1410(20) 0.0323 Uiso\\nC1 C 0.8198(6) 0.10662(25) 0.5895(22) 0.0323 Uiso\\nC2 C 0.7727(7) 0.10664(26) 0.7154(22) 0.0323 Uiso\\nC3 C 0.7007(6) 0.12479(27) 0.6281(23) 0.0323 Uiso\\nC4 C 0.6757(6) 0.14239(25) 0.4176(22) 0.0323 Uiso\\nC5 C 0.7230(7) 0.14221(27) 0.2936(22) 0.0323 Uiso\\nC6 C 0.7948(6) 0.12424(27) 0.3811(23) 0.0323 Uiso\\nC7 C 0.8954(5) 0.08731(22) 0.6750(20) 0.0323 Uiso\\nC8 C 0.6009(5) 0.16242(24) 0.3301(19) 0.0323 Uiso\\nH1 H 0.7895(10) 0.09399(33) 0.8651(27) 0.0323 Uiso\\nH2 H 0.6672(9) 0.1251(4) 0.7186(30) 0.0323 Uiso\\nH3 H 0.7062(10) 0.15493(33) 0.1444(26) 0.0323 Uiso\\nH4 H 0.8283(9) 0.1239(4) 0.2914(31) 0.0323 Uiso\\nO7 O 0.4141(8) 0.3064(5) 0.8665(19) 0.0323 Uiso\\nO8 O 0.4424(7) 0.3466(5) 0.5672(20) 0.0323 Uiso\\nO9 O 0.0632(6) 0.4169(4) 0.4568(20) 0.0323 Uiso\\nO10 O 0.0861(7) 0.4297(4) 0.1401(19) 0.0323 Uiso\\nC9 C 0.3237(6) 0.3571(4) 0.5896(21) 0.0323 Uiso\\nC10 C 0.2750(7) 0.3444(4) 0.7067(21) 0.0323 Uiso\\nC11 C 0.2028(7) 0.3636(4) 0.6220(20) 0.0323 Uiso\\nC12 C 0.1799(6) 0.39517(32) 0.4214(19) 0.0323 Uiso\\nC13 C 0.2287(7) 0.4083(4) 0.3019(20) 0.0323 Uiso\\nC14 C 0.3010(7) 0.3890(4) 0.3875(22) 0.0323 Uiso\\nC15 C 0.3985(6) 0.33603(31) 0.6785(18) 0.0323 Uiso\\nC16 C 0.1048(5) 0.41529(23) 0.3356(17) 0.0323 Uiso\\nH5 H 0.2908(10) 0.3217(4) 0.8491(25) 0.0323 Uiso\\nH6 H 0.1681(9) 0.3545(5) 0.7066(28) 0.0323 Uiso\\nH7 H 0.2127(11) 0.4310(4) 0.1592(24) 0.0323 Uiso\\nH8 H 0.3361(10) 0.3979(5) 0.3033(29) 0.0323 Uiso\\nH9 H 0.495(9) 0.3606(17) 0.279(11) 0.0139 Uiso\\nH10 H -0.007(9) 0.6102(17) 0.245(10) 0.0139 Uiso\\nAl1B Al -0.5003(5) 0.7563(7) -0.5108(15) 0.0238 Uiso\\nO1B O -0.4999(10) 0.6975(12) -0.2651(26) 0.0139 Uiso\\nO2B O 0.0044(10) 0.4479(12) -0.2384(20) 0.0139 Uiso\\nO3B O -0.9159(7) 0.9304(5) -0.8722(21) 0.0323 Uiso\\nO4B O -0.9355(7) 0.9110(5) -0.5493(21) 0.0323 Uiso\\nO5B O -0.5573(7) 0.8411(5) -0.4451(21) 0.0323 Uiso\\nO6B O -0.5825(8) 0.8152(5) -0.1410(20) 0.0323 Uiso\\nC1B C -0.8198(6) 0.89338(25) -0.5895(22) 0.0323 Uiso\\nC2B C -0.7727(7) 0.89336(26) -0.7154(22) 0.0323 Uiso\\nC3B C -0.7007(6) 0.87521(27) -0.6281(23) 0.0323 Uiso\\nC4B C -0.6757(6) 0.85761(25) -0.4176(22) 0.0323 Uiso\\nC5B C -0.7230(7) 0.85779(27) -0.2936(22) 0.0323 Uiso\\nC6B C -0.7948(6) 0.87576(27) -0.3811(23) 0.0323 Uiso\\nC7B C -0.8954(5) 0.91269(22) -0.6750(20) 0.0323 Uiso\\nC8B C -0.6009(5) 0.83758(24) -0.3301(19) 0.0323 Uiso\\nH1B H -0.7895(10) 0.90601(33) -0.8651(27) 0.0323 Uiso\\nH2B H -0.6672(9) 0.8749(4) -0.7186(30) 0.0323 Uiso\\nH3B H -0.7062(10) 0.84507(33) -0.1444(26) 0.0323 Uiso\\nH4B H -0.8283(9) 0.8761(4) -0.2914(31) 0.0323 Uiso\\nO7B O -0.4141(8) 0.6936(5) -0.8665(19) 0.0323 Uiso\\nO8B O -0.4424(7) 0.6534(5) -0.5672(20) 0.0323 Uiso\\nO9B O -0.0632(6) 0.5831(4) -0.4568(20) 0.0323 Uiso\\nO10B O -0.0861(7) 0.5703(4) -0.1401(19) 0.0323 Uiso\\nC9B C -0.3237(6) 0.6429(4) -0.5896(21) 0.0323 Uiso\\nC10B C -0.2750(7) 0.6556(4) -0.7067(21) 0.0323 Uiso\\nC11B C -0.2028(7) 0.6364(4) -0.6220(20) 0.0323 Uiso\\nC12B C -0.1799(6) 0.60483(32) -0.4214(19) 0.0323 Uiso\\nC13B C -0.2287(7) 0.5917(4) -0.3019(20) 0.0323 Uiso\\nC14B C -0.3010(7) 0.6110(4) -0.3875(22) 0.0323 Uiso\\nC15B C -0.3985(6) 0.66397(31) -0.6785(18) 0.0323 Uiso\\nC16B C -0.1048(5) 0.58471(23) -0.3356(17) 0.0323 Uiso\\nH5B H -0.2908(10) 0.6783(4) -0.8491(25) 0.0323 Uiso\\nH6B H -0.1681(9) 0.6455(5) -0.7066(28) 0.0323 Uiso\\nH7B H -0.2127(11) 0.5690(4) -0.1592(24) 0.0323 Uiso\\nH8B H -0.3361(10) 0.6021(5) -0.3033(29) 0.0323 Uiso\\nH9B H -0.495(9) 0.6394(17) -0.279(11) 0.0139 Uiso\\nH10B H 0.007(9) 0.3898(17) -0.245(10) 0.0139 Uiso\\nAl1A Al -0.5003(5) 0.7437(7) -1.0108(15) 0.0238 Uiso\\nAl1A_2 Al -0.5003(5) 0.7437(7) -0.0108(15) 0.0238 Uiso\\nAl1C Al 0.5003(5) 0.2563(7) 0.0108(15) 0.0238 Uiso\\nAl1C_2 Al 0.5003(5) 0.2563(7) 1.0108(15) 0.0238 Uiso\\nAl2A Al -1.0000 1.00000 -0.5000 0.0238 Uiso\\nAl2A_2 Al 1.0000 0.00000 0.5000 0.0238 Uiso\\nAl3_2 Al 0.0000 0.50000 -0.5000 0.0238 Uiso\\nAl3A Al -1.0000 1.00000 -1.0000 0.0238 Uiso\\nAl3A_2 Al 1.0000 0.00000 1.0000 0.0238 Uiso\\nO1A O -0.4999(10) 0.8025(12) -0.7651(26) 0.0139 Uiso\\nO1C O 0.4999(10) 0.1975(12) 0.7651(26) 0.0139 Uiso\\nO2B_2 O 0.0044(10) 0.4479(12) 0.7616(20) 0.0139 Uiso\\nO3A O 0.0841(7) 0.5696(5) 0.6278(21) 0.0323 Uiso\\nO3C O -0.0841(7) 0.4304(5) 0.3722(21) 0.0323 Uiso\\nO4A O 0.0645(7) 0.5890(5) -0.0493(21) 0.0323 Uiso\\nO4C O -0.0645(7) 0.4110(5) 0.0493(21) 0.0323 Uiso\\nO6A O -0.5825(8) 0.6848(5) -0.6410(20) 0.0323 Uiso\\nO6C O 0.5825(8) 0.3152(5) 0.6410(20) 0.0323 Uiso\\nO7A O -0.4141(8) 0.8064(5) -0.3665(19) 0.0323 Uiso\\nO7C O 0.4141(8) 0.1936(5) 0.3665(19) 0.0323 Uiso\\nO9B_2 O -0.0632(6) 0.5831(4) 0.5432(20) 0.0323 Uiso\\nO11 O 0.5272(7) 0.4790(10) 0.2436(23) 0.0553 Uiso\\nH11 H 0.535(6) 0.524(5) 0.360(11) 0.0553 Uiso\\nH12 H 0.572(4) 0.478(6) 0.197(18) 0.0553 Uiso\\nO12 O 0.0162(8) 0.7394(9) 0.1458(18) 0.0553 Uiso\\nH13 H 0.053(5) 0.748(6) 0.279(11) 0.0553 Uiso\\nH14 H -0.007(5) 0.7992(30) 0.111(18) 0.0553 Uiso\\nloop_\\n_geom_bond_atom_site_label_1\\n_geom_bond_atom_site_label_2\\n_geom_bond_site_symmetry_1\\n_geom_bond_site_symmetry_2\\nAl1 O1 1_555 1_555\\nAl2 O2 1_555 1_555\\nAl3 O2 1_555 1_555\\nO1 H9 1_555 1_555\\nO2 H10 1_555 1_555\\nO3 C7 1_555 1_555\\nO4 C7 1_555 1_555\\nO5 Al1 1_555 1_555\\nO6 C8 1_555 1_555\\nC1 C2 1_555 1_555\\nC2 C3 1_555 1_555\\nC3 C4 1_555 1_555\\nC4 C5 1_555 1_555\\nC5 C6 1_555 1_555\\nC6 C1 1_555 1_555\\nC7 C1 1_555 1_555\\nC8 O5 1_555 1_555\\nH1 C2 1_555 1_555\\nH2 C3 1_555 1_555\\nH3 C5 1_555 1_555\\nH4 C6 1_555 1_555\\nO7 C15 1_555 1_555\\nO8 Al1 1_555 1_555\\nO9 Al3 1_555 1_555\\nO10 Al2 1_555 1_555\\nC9 C10 1_555 1_555\\nC10 C11 1_555 1_555\\nC11 C12 1_555 1_555\\nC12 C13 1_555 1_555\\nC13 C14 1_555 1_555\\nC14 C9 1_555 1_555\\nC15 O8 1_555 1_555\\nC16 O9 1_555 1_555\\nH5 C10 1_555 1_555\\nH6 C11 1_555 1_555\\nH7 C13 1_555 1_555\\nH8 C14 1_555 1_555\\nO11 H11 1_555 1_555\\nH12 O11 1_555 1_555\\nO12 H13 1_555 1_555\\nH14 O12 1_555 1_555\\nAl1B O1B 1_555 1_555\\nO1B H9B 1_555 1_555\\nO2B Al2 1_555 1_555\\nO3B C7B 1_555 1_555\\nO4B C7B 1_555 1_555\\nO5B Al1B 1_555 1_555\\nO6B C8B 1_555 1_555\\nC1B C2B 1_555 1_555\\nC2B C3B 1_555 1_555\\nC3B C4B 1_555 1_555\\nC4B C5B 1_555 1_555\\nC5B C6B 1_555 1_555\\nC6B C1B 1_555 1_555\\nC7B C1B 1_555 1_555\\nC8B O5B 1_555 1_555\\nH1B C2B 1_555 1_555\\nH2B C3B 1_555 1_555\\nH3B C5B 1_555 1_555\\nH4B C6B 1_555 1_555\\nO7B C15B 1_555 1_555\\nO8B Al1B 1_555 1_555\\nO9B C16B 1_555 1_555\\nO10B Al2 1_555 1_555\\nC9B C10B 1_555 1_555\\nC10B C11B 1_555 1_555\\nC11B C12B 1_555 1_555\\nC12B C13B 1_555 1_555\\nC13B C14B 1_555 1_555\\nC14B C9B 1_555 1_555\\nC15B O8B 1_555 1_555\\nC16B O10B 1_555 1_555\\nH5B C10B 1_555 1_555\\nH6B C11B 1_555 1_555\\nH7B C13B 1_555 1_555\\nH8B C14B 1_555 1_555\\nH10B O2B 1_555 1_555\\nAl1A O7B 1_555 1_555\\nAl1A_2 O1B 1_555 1_555\\nAl1C O1 1_555 1_555\\nAl1C_2 O7 1_555 1_555\\nAl2A O4B 1_555 1_555\\nAl2A_2 O4 1_555 1_555\\nAl3_2 O2B 1_555 1_555\\nAl3A O3B 1_555 1_555\\nAl3A_2 O3 1_555 1_555\\nO1A Al1B 1_555 1_555\\nO1C Al1 1_555 1_555\\nO2B_2 Al3 1_555 1_555\\nO3A Al3 1_555 1_555\\nO3C Al3 1_555 1_555\\nO4A Al2 1_555 1_555\\nO4C Al2 1_555 1_555\\nO6A Al1B 1_555 1_555\\nO6C Al1 1_555 1_555\\nO7A Al1B 1_555 1_555\\nO7C Al1 1_555 1_555\\nO9B_2 Al3 1_555 1_555\\nO6 Al1C 1_555 1_555\\nC4 C8 1_555 1_555\\nO10 C16 1_555 1_555\\nC9 C15 1_555 1_555\\nC12 C16 1_555 1_555\\nO6B Al1A_2 1_555 1_555\\nC4B C8B 1_555 1_555\\nO9B Al3_2 1_555 1_555\\nC9B C15B 1_555 1_555\\nC12B C16B 1_555 1_555\\nAl1A O1A 1_555 1_555\\nAl1C_2 O1C 1_555 1_555\\n\\n#END\\n\""
      ]
     },
     "execution_count": 53,
     "metadata": {},
     "output_type": "execute_result"
    }
   ],
   "source": [
    "result.crystal.to_string('cif')"
   ]
  },
  {
   "cell_type": "markdown",
   "id": "ad2f7014",
   "metadata": {},
   "source": [
    "### parse output"
   ]
  },
  {
   "cell_type": "code",
   "execution_count": 122,
   "id": "cbc1a635",
   "metadata": {},
   "outputs": [],
   "source": [
    "from src.output_parser import *"
   ]
  },
  {
   "cell_type": "code",
   "execution_count": 123,
   "id": "cb548d78",
   "metadata": {},
   "outputs": [],
   "source": [
    "import pandas as pd"
   ]
  },
  {
   "cell_type": "code",
   "execution_count": 124,
   "id": "49e44b47",
   "metadata": {},
   "outputs": [],
   "source": [
    "gas ='N2'"
   ]
  },
  {
   "cell_type": "code",
   "execution_count": 125,
   "id": "bad1d23f",
   "metadata": {},
   "outputs": [],
   "source": [
    "list_files  = glob.glob(\"data/simulations/KAXQIL*N2*/Output/System_0/*\")"
   ]
  },
  {
   "cell_type": "code",
   "execution_count": 126,
   "id": "c28a4381",
   "metadata": {},
   "outputs": [],
   "source": [
    "results = []\n",
    "for filename in list_files:\n",
    "    with open(filename,'r') as f:\n",
    "        string_output = f.read() \n",
    "    results.append(parse(string_output))\n",
    "    \n",
    "uptakes = [[r['Thermo/Baro-stat NHC parameters']['External Pressure'][0],\n",
    "            r[\"Number of molecules\"][gas]\n",
    "            [\"Average loading absolute [cm^3 (STP)/cm^3 framework]\"][0]]\n",
    "           for r in results]\n",
    "\n",
    "isotherm = pd.DataFrame(uptakes,columns=['pressure(Pa)','uptake(cm^3 (STP)/cm^3 framework)']).sort_values(by='pressure(Pa)')\n",
    "isotherm['pressure(bar)']=isotherm['pressure(Pa)']/100000"
   ]
  },
  {
   "cell_type": "code",
   "execution_count": 127,
   "id": "ab5607c7",
   "metadata": {},
   "outputs": [
    {
     "name": "stderr",
     "output_type": "stream",
     "text": [
      "/opt/.conda/envs/simple-adsorption-workflow/lib/python3.9/site-packages/pandas/plotting/_matplotlib/core.py:1018: MatplotlibDeprecationWarning: The get_cmap function was deprecated in Matplotlib 3.7 and will be removed two minor releases later. Use ``matplotlib.colormaps[name]`` or ``matplotlib.colormaps.get_cmap(obj)`` instead.\n",
      "  cmap = self.plt.cm.get_cmap(cmap)\n"
     ]
    },
    {
     "data": {
      "text/plain": [
       "<Axes: xlabel='pressure(bar)', ylabel='uptake(cm^3 (STP)/cm^3 framework)'>"
      ]
     },
     "execution_count": 127,
     "metadata": {},
     "output_type": "execute_result"
    },
    {
     "data": {
      "image/png": "[encoded data removed]",
      "text/plain": [
       "<Figure size 640x480 with 1 Axes>"
      ]
     },
     "metadata": {},
     "output_type": "display_data"
    }
   ],
   "source": [
    "isotherm.plot(x='pressure(bar)',y='uptake(cm^3 (STP)/cm^3 framework)',kind='scatter')"
   ]
  }
 ],
 "metadata": {
  "kernelspec": {
   "display_name": "Python 3 (ipykernel)",
   "language": "python",
   "name": "python3"
  },
  "language_info": {
   "codemirror_mode": {
    "name": "ipython",
    "version": 3
   },
   "file_extension": ".py",
   "mimetype": "text/x-python",
   "name": "python",
   "nbconvert_exporter": "python",
   "pygments_lexer": "ipython3",
   "version": "3.9.16"
  },
  "varInspector": {
   "cols": {
    "lenName": 16,
    "lenType": 16,
    "lenVar": 40
   },
   "kernels_config": {
    "python": {
     "delete_cmd_postfix": "",
     "delete_cmd_prefix": "del ",
     "library": "var_list.py",
     "varRefreshCmd": "print(var_dic_list())"
    },
    "r": {
     "delete_cmd_postfix": ") ",
     "delete_cmd_prefix": "rm(",
     "library": "var_list.r",
     "varRefreshCmd": "cat(var_dic_list()) "
    }
   },
   "types_to_exclude": [
    "module",
    "function",
    "builtin_function_or_method",
    "instance",
    "_Feature"
   ],
   "window_display": false
  }
 },
 "nbformat": 4,
 "nbformat_minor": 5
}
