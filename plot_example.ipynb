{
 "cells": [
  {
   "cell_type": "code",
   "execution_count": 1,
   "id": "cbc1a635",
   "metadata": {},
   "outputs": [],
   "source": [
    "from src.output_parser import *\n",
    "import pandas as pd\n",
    "import glob"
   ]
  },
  {
   "cell_type": "code",
   "execution_count": 2,
   "id": "49e44b47",
   "metadata": {},
   "outputs": [],
   "source": [
    "gas ='N2'"
   ]
  },
  {
   "cell_type": "code",
   "execution_count": 17,
   "id": "bad1d23f",
   "metadata": {},
   "outputs": [],
   "source": [
    "list_files  = glob.glob(\"data/simulations/SAB*N2*/Output/System_0/*\")"
   ]
  },
  {
   "cell_type": "code",
   "execution_count": 21,
   "id": "c28a4381",
   "metadata": {},
   "outputs": [],
   "source": [
    "results = []\n",
    "for filename in list_files:\n",
    "    with open(filename,'r') as f:\n",
    "        string_output = f.read() \n",
    "    results.append(parse(string_output))\n",
    "    \n",
    "uptakes = [[r['Thermo/Baro-stat NHC parameters']['External Pressure'][0],\n",
    "            r[\"Number of molecules\"][gas]\n",
    "            [\"Average loading absolute [cm^3 (STP)/cm^3 framework]\"][0]]\n",
    "           for r in results]\n",
    "\n",
    "isotherm = pd.DataFrame(uptakes,columns=['pressure(Pa)','uptake(cm^3 (STP)/cm^3 framework)']).sort_values(by='pressure(Pa)')\n",
    "isotherm['pressure(bar)']=isotherm['pressure(Pa)']/100000"
   ]
  },
  {
   "cell_type": "code",
   "execution_count": 14,
   "id": "ab5607c7",
   "metadata": {},
   "outputs": [
    {
     "name": "stderr",
     "output_type": "stream",
     "text": [
      "/opt/.conda/envs/simple-adsorption-workflow/lib/python3.9/site-packages/pandas/plotting/_matplotlib/core.py:1041: UserWarning: No data for colormapping provided via 'c'. Parameters 'cmap' will be ignored\n",
      "  scatter = ax.scatter(\n"
     ]
    },
    {
     "data": {
      "text/plain": [
       "<Axes: xlabel='pressure(bar)', ylabel='uptake(cm^3 (STP)/cm^3 framework)'>"
      ]
     },
     "execution_count": 14,
     "metadata": {},
     "output_type": "execute_result"
    },
    {
     "data": {
      "image/png": "[encoded data removed]",
      "text/plain": [
       "<Figure size 640x480 with 1 Axes>"
      ]
     },
     "metadata": {},
     "output_type": "display_data"
    }
   ],
   "source": [
    "isotherm.plot(x='pressure(bar)',y='uptake(cm^3 (STP)/cm^3 framework)',kind='scatter')"
   ]
  }
 ],
 "metadata": {
  "kernelspec": {
   "display_name": "Python 3 (ipykernel)",
   "language": "python",
   "name": "python3"
  },
  "language_info": {
   "codemirror_mode": {
    "name": "ipython",
    "version": 3
   },
   "file_extension": ".py",
   "mimetype": "text/x-python",
   "name": "python",
   "nbconvert_exporter": "python",
   "pygments_lexer": "ipython3",
   "version": "3.9.16"
  },
  "varInspector": {
   "cols": {
    "lenName": 16,
    "lenType": 16,
    "lenVar": 40
   },
   "kernels_config": {
    "python": {
     "delete_cmd_postfix": "",
     "delete_cmd_prefix": "del ",
     "library": "var_list.py",
     "varRefreshCmd": "print(var_dic_list())"
    },
    "r": {
     "delete_cmd_postfix": ") ",
     "delete_cmd_prefix": "rm(",
     "library": "var_list.r",
     "varRefreshCmd": "cat(var_dic_list()) "
    }
   },
   "types_to_exclude": [
    "module",
    "function",
    "builtin_function_or_method",
    "instance",
    "_Feature"
   ],
   "window_display": false
  }
 },
 "nbformat": 4,
 "nbformat_minor": 5
}
